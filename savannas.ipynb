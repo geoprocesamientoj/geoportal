{
  "nbformat": 4,
  "nbformat_minor": 0,
  "metadata": {
    "colab": {
      "provenance": [],
      "include_colab_link": true
    },
    "kernelspec": {
      "name": "python3",
      "display_name": "Python 3"
    },
    "language_info": {
      "name": "python"
    }
  },
  "cells": [
    {
      "cell_type": "markdown",
      "metadata": {
        "id": "view-in-github",
        "colab_type": "text"
      },
      "source": [
        "<a href=\"https://colab.research.google.com/github/geoprocesamientoj/geoportal/blob/main/savannas.ipynb\" target=\"_parent\"><img src=\"https://colab.research.google.com/assets/colab-badge.svg\" alt=\"Open In Colab\"/></a>"
      ]
    },
    {
      "cell_type": "markdown",
      "source": [
        "\n",
        "# Introducción.\n",
        "\n",
        "El presente modelo tiene por objetivo realizar un analisis de cobertura de la tierra en el Deparamento de Vichada para los años 2018, 2019 y 2020, de conformidad con lo señalado en numeral 11.2.1 \"Estimación de los cambios en el uso de la tierra\" de la metodologia BCR0005. \n",
        "\n",
        "\n",
        "En primer lugar se realiza el cálculo de superficie de cobertura vegetal natural para los años xxxxxxx.\n",
        "\n",
        "\n"
      ],
      "metadata": {
        "id": "600CkFg2dORk"
      }
    },
    {
      "cell_type": "markdown",
      "source": [
        "# Exploración de datos de satelite"
      ],
      "metadata": {
        "id": "-vHgFlpXcu3v"
      }
    },
    {
      "cell_type": "markdown",
      "source": [],
      "metadata": {
        "id": "-jWGmx93hGAW"
      }
    }
  ]
}